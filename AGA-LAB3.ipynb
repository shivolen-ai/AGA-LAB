{
  "nbformat": 4,
  "nbformat_minor": 0,
  "metadata": {
    "colab": {
      "provenance": [],
      "toc_visible": true
    },
    "kernelspec": {
      "name": "python3",
      "display_name": "Python 3"
    },
    "language_info": {
      "name": "python"
    }
  },
  "cells": [
    {
      "cell_type": "code",
      "execution_count": 2,
      "metadata": {
        "colab": {
          "base_uri": "https://localhost:8080/"
        },
        "id": "RAjjUDuGQcR-",
        "outputId": "c070d5e7-13a5-4b24-8f1b-bdffd5faa723"
      },
      "outputs": [
        {
          "output_type": "stream",
          "name": "stdout",
          "text": [
            "[BernoulliRBM] Iteration 1, pseudo-likelihood = -27.06, time = 0.03s\n",
            "[BernoulliRBM] Iteration 2, pseudo-likelihood = -26.41, time = 0.07s\n",
            "[BernoulliRBM] Iteration 3, pseudo-likelihood = -25.32, time = 0.06s\n",
            "[BernoulliRBM] Iteration 4, pseudo-likelihood = -24.12, time = 0.06s\n",
            "[BernoulliRBM] Iteration 5, pseudo-likelihood = -22.74, time = 0.07s\n",
            "[BernoulliRBM] Iteration 6, pseudo-likelihood = -22.45, time = 0.07s\n",
            "[BernoulliRBM] Iteration 7, pseudo-likelihood = -22.43, time = 0.07s\n",
            "[BernoulliRBM] Iteration 8, pseudo-likelihood = -21.75, time = 0.07s\n",
            "[BernoulliRBM] Iteration 9, pseudo-likelihood = -22.02, time = 0.10s\n",
            "[BernoulliRBM] Iteration 10, pseudo-likelihood = -21.65, time = 0.12s\n",
            "[BernoulliRBM] Iteration 11, pseudo-likelihood = -21.50, time = 0.14s\n",
            "[BernoulliRBM] Iteration 12, pseudo-likelihood = -21.21, time = 0.15s\n",
            "[BernoulliRBM] Iteration 13, pseudo-likelihood = -21.34, time = 0.16s\n",
            "[BernoulliRBM] Iteration 14, pseudo-likelihood = -20.74, time = 0.16s\n",
            "[BernoulliRBM] Iteration 15, pseudo-likelihood = -21.16, time = 0.18s\n",
            "[BernoulliRBM] Iteration 16, pseudo-likelihood = -20.59, time = 0.18s\n",
            "[BernoulliRBM] Iteration 17, pseudo-likelihood = -20.54, time = 0.16s\n",
            "[BernoulliRBM] Iteration 18, pseudo-likelihood = -20.28, time = 0.13s\n",
            "[BernoulliRBM] Iteration 19, pseudo-likelihood = -20.07, time = 0.08s\n",
            "[BernoulliRBM] Iteration 20, pseudo-likelihood = -20.00, time = 0.17s\n"
          ]
        },
        {
          "output_type": "stream",
          "name": "stderr",
          "text": [
            "/usr/local/lib/python3.11/dist-packages/sklearn/linear_model/_logistic.py:1247: FutureWarning: 'multi_class' was deprecated in version 1.5 and will be removed in 1.7. From then on, it will always use 'multinomial'. Leave it to its default value to avoid this warning.\n",
            "  warnings.warn(\n"
          ]
        },
        {
          "output_type": "stream",
          "name": "stdout",
          "text": [
            "Classification accuracy: 0.8777777777777778\n"
          ]
        }
      ],
      "source": [
        "\n",
        "\n",
        "import numpy as np\n",
        "from sklearn.neural_network import BernoulliRBM\n",
        "from sklearn.linear_model import LogisticRegression\n",
        "from sklearn.model_selection import train_test_split\n",
        "from sklearn.datasets import load_digits\n",
        "\n",
        "digits = load_digits()\n",
        "X, y = digits.data, digits.target\n",
        "\n",
        "X = X / 16.0\n",
        "\n",
        "X_train, X_test, y_train, y_test = train_test_split(X, y, test_size=0.2, random_state=42)\n",
        "\n",
        "\n",
        "rbm = BernoulliRBM(n_components=100, learning_rate=0.06, n_iter=20, random_state=0, verbose=True)\n",
        "rbm.fit(X_train)\n",
        "\n",
        "X_train_features = rbm.transform(X_train)\n",
        "X_test_features = rbm.transform(X_test)\n",
        "\n",
        "\n",
        "classifier = LogisticRegression(solver='lbfgs', max_iter=1000, multi_class='multinomial')\n",
        "classifier.fit(X_train_features, y_train)\n",
        "\n",
        "\n",
        "accuracy = classifier.score(X_test_features, y_test)\n",
        "print(f\"Classification accuracy: {accuracy}\")\n"
      ]
    },
    {
      "cell_type": "code",
      "source": [],
      "metadata": {
        "id": "_d-CTHnUQptq"
      },
      "execution_count": null,
      "outputs": []
    }
  ]
}